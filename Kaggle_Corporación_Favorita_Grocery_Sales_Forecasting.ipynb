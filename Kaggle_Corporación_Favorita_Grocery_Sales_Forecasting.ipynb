{
  "nbformat": 4,
  "nbformat_minor": 0,
  "metadata": {
    "colab": {
      "name": "Kaggle Corporación Favorita Grocery Sales Forecasting.ipynb",
      "provenance": [],
      "collapsed_sections": [],
      "machine_shape": "hm"
    },
    "kernelspec": {
      "name": "python3",
      "display_name": "Python 3"
    },
    "accelerator": "TPU"
  },
  "cells": [
    {
      "cell_type": "code",
      "metadata": {
        "id": "n5qUhJkkKUqs",
        "colab_type": "code",
        "colab": {
          "base_uri": "https://localhost:8080/",
          "height": 34
        },
        "outputId": "f1ea7716-20d6-4112-9147-bc15a1b5f0b7"
      },
      "source": [
        "from google.colab import drive\n",
        "drive.mount('/content/drive')"
      ],
      "execution_count": null,
      "outputs": [
        {
          "output_type": "stream",
          "text": [
            "Drive already mounted at /content/drive; to attempt to forcibly remount, call drive.mount(\"/content/drive\", force_remount=True).\n"
          ],
          "name": "stdout"
        }
      ]
    },
    {
      "cell_type": "markdown",
      "metadata": {
        "id": "EAdfuX_bB-c2",
        "colab_type": "text"
      },
      "source": [
        "# import Library"
      ]
    },
    {
      "cell_type": "code",
      "metadata": {
        "id": "xUzxRfzIK2FF",
        "colab_type": "code",
        "colab": {}
      },
      "source": [
        "import numpy as np\n",
        "import pandas as pd\n",
        "from sklearn import preprocessing, linear_model, metrics\n",
        "import matplotlib.pyplot as plt\n",
        "from sklearn.tree import DecisionTreeRegressor\n",
        "from sklearn.ensemble import RandomForestRegressor\n",
        "from sklearn.model_selection import train_test_split"
      ],
      "execution_count": null,
      "outputs": []
    },
    {
      "cell_type": "markdown",
      "metadata": {
        "id": "aNE5R36XCHac",
        "colab_type": "text"
      },
      "source": [
        "# Readind Data and Processing Data"
      ]
    },
    {
      "cell_type": "code",
      "metadata": {
        "id": "-b34PLtSNSQZ",
        "colab_type": "code",
        "colab": {}
      },
      "source": [
        "dtypes = {'id':'int64', 'item_nbr':'int32', 'store_nbr':'int8', 'onpromotion':str}\n",
        "data = {\n",
        "    'tra': pd.read_csv('/content/drive/My Drive/extracted/train.csv', dtype=dtypes, parse_dates=['date']),\n",
        "    'tes': pd.read_csv('/content/drive/My Drive/extracted/test.csv', dtype=dtypes, parse_dates=['date']),\n",
        "    'ite': pd.read_csv('/content/drive/My Drive/extracted/items.csv'),\n",
        "    'sto': pd.read_csv('/content/drive/My Drive/extracted/stores.csv'),\n",
        "    'trn': pd.read_csv('/content/drive/My Drive/extracted/transactions.csv', parse_dates=['date']),\n",
        "    'hol': pd.read_csv('/content/drive/My Drive/extracted/holidays_events.csv', dtype={'transferred':str}, parse_dates=['date']),\n",
        "    'oil': pd.read_csv('/content/drive/My Drive/extracted/oil.csv', parse_dates=['date']),\n",
        "    }"
      ],
      "execution_count": null,
      "outputs": []
    },
    {
      "cell_type": "code",
      "metadata": {
        "id": "HX4uMTYyN1xd",
        "colab_type": "code",
        "colab": {
          "base_uri": "https://localhost:8080/",
          "height": 34
        },
        "outputId": "63e33c68-7dd8-4e72-d7f3-2ef4e712bb62"
      },
      "source": [
        "train = data['tra'][(data['tra']['date'].dt.month == 8) & (data['tra']['date'].dt.day > 15)]\n",
        "test = data['tes'][(data['tes']['date'].dt.month == 8) & (data['tes']['date'].dt.day > 15)]\n",
        "strain = train.sample(frac =.5) \n",
        "stest = test.sample(frac =.5)\n",
        "print(strain.shape,stest.shape)"
      ],
      "execution_count": null,
      "outputs": [
        {
          "output_type": "stream",
          "text": [
            "(2229506, 6) (1685232, 5)\n"
          ],
          "name": "stdout"
        }
      ]
    },
    {
      "cell_type": "code",
      "metadata": {
        "id": "bkRkrbFvPT_A",
        "colab_type": "code",
        "colab": {}
      },
      "source": [
        "target = strain['unit_sales'].values\n",
        "target[target < 0.] = 0.\n",
        "strain['unit_sales'] = target"
      ],
      "execution_count": null,
      "outputs": []
    },
    {
      "cell_type": "code",
      "metadata": {
        "id": "ubyzhhdsPZTU",
        "colab_type": "code",
        "colab": {}
      },
      "source": [
        "strain = pd.merge(strain, data['ite'], how='left', on=['item_nbr'])\n",
        "strain = pd.merge(strain, data['sto'], how='left', on=['store_nbr'])\n",
        "data_h_1 = data['hol'][data['hol']['locale'] == 'National'][['date','transferred']]\n",
        "data_h_1['transferred'] = data_h_1['transferred'].map({'False': 0, 'True': 1})\n",
        "strain = pd.merge(strain, data_h_1, how='left', on=['date'])\n",
        "strain = pd.merge(strain, data['oil'], how='left', on=['date'])\n",
        "\n",
        "stest = pd.merge(stest, data['ite'], how='left', on=['item_nbr'])\n",
        "stest = pd.merge(stest, data['sto'], how='left', on=['store_nbr'])\n",
        "data_h_t = data['hol'][data['hol']['locale'] == 'National'][['date','transferred']]\n",
        "data_h_t['transferred'] = data_h_t['transferred'].map({'False': 0, 'True': 1})\n",
        "stest = pd.merge(stest, data_h_t, how='left', on=['date'])\n",
        "stest = pd.merge(stest, data['oil'], how='left', on=['date'])"
      ],
      "execution_count": null,
      "outputs": []
    },
    {
      "cell_type": "code",
      "metadata": {
        "id": "emAhK4DQPcGg",
        "colab_type": "code",
        "colab": {}
      },
      "source": [
        "from sklearn import preprocessing\n",
        "def df_transform(df):\n",
        "    df['date'] = pd.to_datetime(df['date'])\n",
        "    df['yea'] = df['date'].dt.year\n",
        "    df['mon'] = df['date'].dt.month\n",
        "    df['day'] = df['date'].dt.day\n",
        "    df['dayofweek'] = df['date'].dt.dayofweek\n",
        "    df['onpromotion'] = df['onpromotion'].map({'False': 1, 'True': 2})\n",
        "    df['perishable'] = df['perishable'].map({0:1.0, 1:1.25})\n",
        "    df = df.fillna(0)\n",
        "    return df\n",
        "def df_lbl_enc(df):\n",
        "    for c in df.columns:\n",
        "        if df[c].dtype == 'object':\n",
        "            lbl = preprocessing.LabelEncoder()\n",
        "            df[c] = lbl.fit_transform(df[c])\n",
        "            print(c)\n",
        "    return df"
      ],
      "execution_count": null,
      "outputs": []
    },
    {
      "cell_type": "code",
      "metadata": {
        "id": "KtNSt87GP9ry",
        "colab_type": "code",
        "colab": {
          "base_uri": "https://localhost:8080/",
          "height": 153
        },
        "outputId": "f26acdc5-2d2e-43c1-ee9b-fb8498d6aead"
      },
      "source": [
        "strain_t = df_transform(strain)\n",
        "strain_t_e = df_lbl_enc(strain_t)\n",
        "\n",
        "stest_t = df_transform(stest)\n",
        "stest_t_e = df_lbl_enc(stest_t)"
      ],
      "execution_count": null,
      "outputs": [
        {
          "output_type": "stream",
          "text": [
            "family\n",
            "city\n",
            "state\n",
            "type\n",
            "family\n",
            "city\n",
            "state\n",
            "type\n"
          ],
          "name": "stdout"
        }
      ]
    },
    {
      "cell_type": "code",
      "metadata": {
        "id": "DA7vfYJM2Cpr",
        "colab_type": "code",
        "colab": {}
      },
      "source": [
        "strain_t_e_dateIndex = strain_t_e.set_index('date')\n",
        "stest_t_e_dateIndex = stest_t_e.set_index('date')"
      ],
      "execution_count": null,
      "outputs": []
    },
    {
      "cell_type": "code",
      "metadata": {
        "id": "-xhFhn5KuTmi",
        "colab_type": "code",
        "colab": {
          "base_uri": "https://localhost:8080/",
          "height": 34
        },
        "outputId": "e01a1f6a-377a-4356-c6e5-82d2ab6f7695"
      },
      "source": [
        "col =[c for c in strain_t_e_dateIndex if c not in ['id','item_nbr','mon','class','city','cluster','unit_sales']]\n",
        "print(col)\n",
        "train_features = strain_t_e_dateIndex[col]\n",
        "target = np.log1p(strain_t_e_dateIndex[['unit_sales']])\n",
        "\n",
        "col =[c for c in stest_t_e_dateIndex if c not in ['id','item_nbr','mon','class','city','cluster']]\n",
        "features = stest_t_e_dateIndex[col]"
      ],
      "execution_count": null,
      "outputs": [
        {
          "output_type": "stream",
          "text": [
            "['store_nbr', 'onpromotion', 'family', 'perishable', 'state', 'type', 'transferred', 'dcoilwtico', 'yea', 'day', 'dayofweek']\n"
          ],
          "name": "stdout"
        }
      ]
    },
    {
      "cell_type": "code",
      "metadata": {
        "id": "rFmb8wb9QAiR",
        "colab_type": "code",
        "colab": {}
      },
      "source": [
        "from sklearn.model_selection import train_test_split\n",
        "X_train, X_test, y_train, y_test = train_test_split(train_features, target, test_size=0.20, random_state=42)"
      ],
      "execution_count": null,
      "outputs": []
    },
    {
      "cell_type": "code",
      "metadata": {
        "id": "bdc-ygFYy-YX",
        "colab_type": "code",
        "colab": {}
      },
      "source": [
        "W_train = X_train['perishable']#.map({0:1.0, 1:1.25})\n",
        "W_test = X_test['perishable']"
      ],
      "execution_count": null,
      "outputs": []
    },
    {
      "cell_type": "markdown",
      "metadata": {
        "id": "5rl6ZGsKB1Sb",
        "colab_type": "text"
      },
      "source": [
        "# Random Forest Regression"
      ]
    },
    {
      "cell_type": "code",
      "metadata": {
        "id": "2f9aXSu0zTLz",
        "colab_type": "code",
        "colab": {}
      },
      "source": [
        "rf = RandomForestRegressor(max_features = \"auto\", random_state =50 )\n"
      ],
      "execution_count": null,
      "outputs": []
    },
    {
      "cell_type": "code",
      "metadata": {
        "id": "8KRywJraQJ4M",
        "colab_type": "code",
        "colab": {
          "base_uri": "https://localhost:8080/",
          "height": 190
        },
        "outputId": "f2c6d68d-bf33-4b8d-cce0-93a24e39254b"
      },
      "source": [
        "rf.fit(X_train, y_train)\n"
      ],
      "execution_count": null,
      "outputs": [
        {
          "output_type": "stream",
          "text": [
            "/usr/local/lib/python3.6/dist-packages/ipykernel_launcher.py:1: DataConversionWarning: A column-vector y was passed when a 1d array was expected. Please change the shape of y to (n_samples,), for example using ravel().\n",
            "  \"\"\"Entry point for launching an IPython kernel.\n"
          ],
          "name": "stderr"
        },
        {
          "output_type": "execute_result",
          "data": {
            "text/plain": [
              "RandomForestRegressor(bootstrap=True, ccp_alpha=0.0, criterion='mse',\n",
              "                      max_depth=None, max_features='auto', max_leaf_nodes=None,\n",
              "                      max_samples=None, min_impurity_decrease=0.0,\n",
              "                      min_impurity_split=None, min_samples_leaf=1,\n",
              "                      min_samples_split=2, min_weight_fraction_leaf=0.0,\n",
              "                      n_estimators=100, n_jobs=None, oob_score=False,\n",
              "                      random_state=50, verbose=0, warm_start=False)"
            ]
          },
          "metadata": {
            "tags": []
          },
          "execution_count": 14
        }
      ]
    },
    {
      "cell_type": "code",
      "metadata": {
        "id": "7kce0jAeu1jj",
        "colab_type": "code",
        "colab": {}
      },
      "source": [
        "print ('RF accuracy: TRAINING', rf.score(X_train,y_train,W_train))\n",
        "print ('RF accuracy: TESTING', rf.score(X_test,y_test,W_test))\n",
        "print(\"feature Importance\",rf.feature_importances_)"
      ],
      "execution_count": null,
      "outputs": []
    },
    {
      "cell_type": "code",
      "metadata": {
        "id": "f172krNCgyhY",
        "colab_type": "code",
        "colab": {}
      },
      "source": [
        "from statsmodels.tsa.seasonal import seasonal_decompose\n",
        "from plotly.offline import download_plotlyjs, init_notebook_mode, plot, iplot\n",
        "import plotly.graph_objs as go\n",
        "result = seasonal_decompose(np.log1p(strain_t_e.unit_sales.values),freq=12)\n",
        "trace1=go.Scatter(x=pd.to_datetime(strain_t_e.date),y=result.trend,name=\"trend\")\n",
        "trace2 = go.Scatter(\n",
        "    x = pd.to_datetime(strain_t_e.date),y = result.seasonal,\n",
        "    name = 'Seasonal'\n",
        ")\n",
        "dat=[trace1,trace2]\n",
        "plot(dat)\n",
        "plt.plot(result.trend)\n",
        "plt.plot(result.seasonal)"
      ],
      "execution_count": null,
      "outputs": []
    },
    {
      "cell_type": "code",
      "metadata": {
        "id": "_QdPk31C1MP3",
        "colab_type": "code",
        "colab": {}
      },
      "source": [
        "result = seasonal_decompose(np.log1p(strain_t_e.unit_sales.values),freq=6)\n",
        "trace1=go.Scatter(x=pd.to_datetime(strain_t_e.date),y=result.trend,name=\"trend\")\n",
        "trace2 = go.Scatter(\n",
        "    x = pd.to_datetime(strain_t_e.date),y = result.seasonal,\n",
        "    name = 'Seasonal'\n",
        ")\n",
        "dat=[trace1,trace2]\n",
        "plot(dat)\n",
        "plt.plot(result.trend)\n",
        "plt.plot(result.seasonal)"
      ],
      "execution_count": null,
      "outputs": []
    },
    {
      "cell_type": "markdown",
      "metadata": {
        "id": "dBA4Ui-qal_1",
        "colab_type": "text"
      },
      "source": [
        "# Polynomial regression\n"
      ]
    },
    {
      "cell_type": "code",
      "metadata": {
        "id": "hIzNKP7lacAI",
        "colab_type": "code",
        "colab": {}
      },
      "source": [
        "from sklearn.preprocessing import PolynomialFeatures\n",
        "polynomial_features= PolynomialFeatures(degree=3)\n",
        "x_train_poly = polynomial_features.fit_transform(X_train)\n",
        "x_test_poly = polynomial_features.fit_transform(X_test)"
      ],
      "execution_count": null,
      "outputs": []
    },
    {
      "cell_type": "code",
      "metadata": {
        "id": "kudghqdc1O0X",
        "colab_type": "code",
        "colab": {}
      },
      "source": [
        "from sklearn.linear_model import LinearRegression \n",
        "model = LinearRegression()\n",
        "model.fit(x_train_poly, y_train)\n",
        "y_test_pred=model.predict(x_test_poly)\n",
        "y_train_pred=model.predict(x_train_poly)\n"
      ],
      "execution_count": null,
      "outputs": []
    },
    {
      "cell_type": "code",
      "metadata": {
        "id": "yUeNbTHiakp6",
        "colab_type": "code",
        "colab": {}
      },
      "source": [
        "from sklearn.metrics import mean_squared_error\n",
        "from math import sqrt\n",
        "from sklearn.metrics import r2_score\n",
        "print(\"rmse value of linear regression using sklearn = \",np.sqrt(np.mean((y_test-y_test_pred)**2)))\n",
        "sse=np.sum((y_test-y_test_pred)**2)\n",
        "print(\"sum of squared error value =\",sse)\n",
        "r2=r2_score(y_test,y_test_pred)\n",
        "print(\"r2_score\",r2)"
      ],
      "execution_count": null,
      "outputs": []
    },
    {
      "cell_type": "markdown",
      "metadata": {
        "id": "EUdmGVV1CezO",
        "colab_type": "text"
      },
      "source": [
        "# Displaying trend and Seasonality"
      ]
    },
    {
      "cell_type": "code",
      "metadata": {
        "id": "MqUOBM-nYuid",
        "colab_type": "code",
        "colab": {}
      },
      "source": [
        "from statsmodels.tsa.seasonal import seasonal_decompose\n",
        "series = strain_t_e.unit_sales.values\n",
        "result = seasonal_decompose(series, model='additive',freq=12,two_sided = False)\n",
        "plt.plot(result.trend)\n",
        "\n"
      ],
      "execution_count": null,
      "outputs": []
    },
    {
      "cell_type": "code",
      "metadata": {
        "id": "CPIzQR3iZbQu",
        "colab_type": "code",
        "colab": {}
      },
      "source": [
        "plt.plot(result.seasonal)"
      ],
      "execution_count": null,
      "outputs": []
    },
    {
      "cell_type": "code",
      "metadata": {
        "id": "Mu2B7fXMayGU",
        "colab_type": "code",
        "colab": {}
      },
      "source": [
        "strain_t_e_dateIndex['unit_sales'].plot(figsize=(20,10), linewidth=5, fontsize=20)\n",
        "plt.xlabel('Date', fontsize=20);"
      ],
      "execution_count": null,
      "outputs": []
    },
    {
      "cell_type": "markdown",
      "metadata": {
        "id": "ugChNwmRnXVf",
        "colab_type": "text"
      },
      "source": [
        "# Printing Trend Using Rolling Average"
      ]
    },
    {
      "cell_type": "code",
      "metadata": {
        "id": "i2Txm1u483sd",
        "colab_type": "code",
        "colab": {
          "base_uri": "https://localhost:8080/",
          "height": 71
        },
        "outputId": "c14bdc6a-1c05-4a85-f3a4-99c51f6e62f0"
      },
      "source": [
        "from statsmodels.tsa.stattools import adfuller\n",
        "from statsmodels.tsa.seasonal import seasonal_decompose\n",
        "from statsmodels.tsa.arima_model import ARIMA\n",
        "from pandas.plotting import register_matplotlib_converters\n",
        "register_matplotlib_converters()\n"
      ],
      "execution_count": null,
      "outputs": [
        {
          "output_type": "stream",
          "text": [
            "/usr/local/lib/python3.6/dist-packages/statsmodels/tools/_testing.py:19: FutureWarning: pandas.util.testing is deprecated. Use the functions in the public API at pandas.testing instead.\n",
            "  import pandas.util.testing as tm\n"
          ],
          "name": "stderr"
        }
      ]
    },
    {
      "cell_type": "code",
      "metadata": {
        "id": "QyMl9sEudzcC",
        "colab_type": "code",
        "colab": {
          "base_uri": "https://localhost:8080/",
          "height": 609
        },
        "outputId": "329c086f-fa9b-45cd-f85a-3aa54bca695e"
      },
      "source": [
        "strain_t_e_dateIndex['unit_sales'].rolling(12).mean().plot(x=strain_t_e_dateIndex['yea'],figsize=(15,10), linewidth=5, fontsize=20)\n",
        "plt.xlabel('Year', fontsize=20);\n"
      ],
      "execution_count": null,
      "outputs": [
        {
          "output_type": "display_data",
          "data": {
            "image/png": "[encoded data removed]",
            "text/plain": [
              "<Figure size 1080x720 with 1 Axes>"
            ]
          },
          "metadata": {
            "tags": [],
            "needs_background": "light"
          }
        }
      ]
    },
    {
      "cell_type": "code",
      "metadata": {
        "id": "6JLrtdQR__c_",
        "colab_type": "code",
        "colab": {}
      },
      "source": [
        "rolling_mean = strain_t_e_dateIndex.rolling(window = 12).mean()\n",
        "rolling_std = strain_t_e_dateIndex.rolling(window = 12).std()"
      ],
      "execution_count": null,
      "outputs": []
    },
    {
      "cell_type": "code",
      "metadata": {
        "id": "XduxwKAiJFMe",
        "colab_type": "code",
        "colab": {}
      },
      "source": [
        "rolling_mean.shape()"
      ],
      "execution_count": null,
      "outputs": []
    },
    {
      "cell_type": "code",
      "metadata": {
        "id": "vGyIEPeBg7fE",
        "colab_type": "code",
        "colab": {}
      },
      "source": [
        "plt.rcParams['agg.path.chunksize'] = 10000000000000000000000\n",
        "plt.plot(strain_t_e_dateIndex, color = 'blue', label = 'Original')\n",
        "plt.plot(rolling_mean, color = 'red', label = 'Rolling Mean')\n",
        "plt.plot(rolling_std, color = 'black', label = 'Rolling Std')\n",
        "plt.legend(loc = 'best')\n",
        "plt.title('Rolling Mean & Rolling Standard Deviation')\n",
        "plt.show()"
      ],
      "execution_count": null,
      "outputs": []
    },
    {
      "cell_type": "code",
      "metadata": {
        "id": "p9N24gKxg-SG",
        "colab_type": "code",
        "colab": {}
      },
      "source": [
        "result = adfuller(strain_t_e_dateIndex['unit_sales'])\n",
        "print('ADF Statistic: {}'.format(result[0]))\n",
        "print('p-value: {}'.format(result[1]))\n",
        "print('Critical Values:')\n",
        "for key, value in result[4].items():\n",
        "    print('\\t{}: {}'.format(key, value))"
      ],
      "execution_count": null,
      "outputs": []
    },
    {
      "cell_type": "markdown",
      "metadata": {
        "id": "eSTA-87Z9Ex9",
        "colab_type": "text"
      },
      "source": [
        "# Auto Regressive model"
      ]
    },
    {
      "cell_type": "code",
      "metadata": {
        "id": "J1-Ayn7ShA95",
        "colab_type": "code",
        "colab": {}
      },
      "source": [
        "from statsmodels.tsa.ar_model import AR\n",
        "model = AR(X_train)\n",
        "model_fitted = model.fit()"
      ],
      "execution_count": null,
      "outputs": []
    },
    {
      "cell_type": "code",
      "metadata": {
        "id": "Lw5XqCdBBzVA",
        "colab_type": "code",
        "colab": {}
      },
      "source": [
        "print('The lag value chose is: %s' % model_fitted.k_ar)\n",
        "print('The coefficients of the model are:\\n %s' % model_fitted.params)"
      ],
      "execution_count": null,
      "outputs": []
    },
    {
      "cell_type": "code",
      "metadata": {
        "id": "UYEci1FmCWGO",
        "colab_type": "code",
        "colab": {}
      },
      "source": [
        "predictions = model_fit.predict(start=len(train), end=len(train)+len(test)-1, dynamic=False)"
      ],
      "execution_count": null,
      "outputs": []
    },
    {
      "cell_type": "markdown",
      "metadata": {
        "id": "p8EpuO29D1Dd",
        "colab_type": "text"
      },
      "source": [
        " # Navie bias"
      ]
    },
    {
      "cell_type": "code",
      "metadata": {
        "id": "qYSckAzOyg4A",
        "colab_type": "code",
        "colab": {
          "base_uri": "https://localhost:8080/",
          "height": 340
        },
        "outputId": "38e256dd-2970-4162-b0de-418929c5bfc3"
      },
      "source": [
        "stest_t_e_dateIndex.head()"
      ],
      "execution_count": null,
      "outputs": [
        {
          "output_type": "execute_result",
          "data": {
            "text/html": [
              "<div>\n",
              "<style scoped>\n",
              "    .dataframe tbody tr th:only-of-type {\n",
              "        vertical-align: middle;\n",
              "    }\n",
              "\n",
              "    .dataframe tbody tr th {\n",
              "        vertical-align: top;\n",
              "    }\n",
              "\n",
              "    .dataframe thead th {\n",
              "        text-align: right;\n",
              "    }\n",
              "</style>\n",
              "<table border=\"1\" class=\"dataframe\">\n",
              "  <thead>\n",
              "    <tr style=\"text-align: right;\">\n",
              "      <th></th>\n",
              "      <th>id</th>\n",
              "      <th>store_nbr</th>\n",
              "      <th>item_nbr</th>\n",
              "      <th>onpromotion</th>\n",
              "      <th>family</th>\n",
              "      <th>class</th>\n",
              "      <th>perishable</th>\n",
              "      <th>city</th>\n",
              "      <th>state</th>\n",
              "      <th>type</th>\n",
              "      <th>cluster</th>\n",
              "      <th>transferred</th>\n",
              "      <th>dcoilwtico</th>\n",
              "      <th>yea</th>\n",
              "      <th>mon</th>\n",
              "      <th>day</th>\n",
              "      <th>dayofweek</th>\n",
              "    </tr>\n",
              "    <tr>\n",
              "      <th>date</th>\n",
              "      <th></th>\n",
              "      <th></th>\n",
              "      <th></th>\n",
              "      <th></th>\n",
              "      <th></th>\n",
              "      <th></th>\n",
              "      <th></th>\n",
              "      <th></th>\n",
              "      <th></th>\n",
              "      <th></th>\n",
              "      <th></th>\n",
              "      <th></th>\n",
              "      <th></th>\n",
              "      <th></th>\n",
              "      <th></th>\n",
              "      <th></th>\n",
              "      <th></th>\n",
              "    </tr>\n",
              "  </thead>\n",
              "  <tbody>\n",
              "    <tr>\n",
              "      <th>2017-08-19</th>\n",
              "      <td>126305934</td>\n",
              "      <td>46</td>\n",
              "      <td>1038950</td>\n",
              "      <td>1</td>\n",
              "      <td>5</td>\n",
              "      <td>2712</td>\n",
              "      <td>1.25</td>\n",
              "      <td>18</td>\n",
              "      <td>12</td>\n",
              "      <td>0</td>\n",
              "      <td>14</td>\n",
              "      <td>0.0</td>\n",
              "      <td>0.00</td>\n",
              "      <td>2017</td>\n",
              "      <td>8</td>\n",
              "      <td>19</td>\n",
              "      <td>5</td>\n",
              "    </tr>\n",
              "    <tr>\n",
              "      <th>2017-08-23</th>\n",
              "      <td>127142442</td>\n",
              "      <td>44</td>\n",
              "      <td>1946325</td>\n",
              "      <td>1</td>\n",
              "      <td>12</td>\n",
              "      <td>1026</td>\n",
              "      <td>1.00</td>\n",
              "      <td>18</td>\n",
              "      <td>12</td>\n",
              "      <td>0</td>\n",
              "      <td>5</td>\n",
              "      <td>0.0</td>\n",
              "      <td>48.45</td>\n",
              "      <td>2017</td>\n",
              "      <td>8</td>\n",
              "      <td>23</td>\n",
              "      <td>2</td>\n",
              "    </tr>\n",
              "    <tr>\n",
              "      <th>2017-08-29</th>\n",
              "      <td>128343097</td>\n",
              "      <td>28</td>\n",
              "      <td>1412379</td>\n",
              "      <td>1</td>\n",
              "      <td>13</td>\n",
              "      <td>1236</td>\n",
              "      <td>1.00</td>\n",
              "      <td>8</td>\n",
              "      <td>6</td>\n",
              "      <td>4</td>\n",
              "      <td>10</td>\n",
              "      <td>0.0</td>\n",
              "      <td>46.46</td>\n",
              "      <td>2017</td>\n",
              "      <td>8</td>\n",
              "      <td>29</td>\n",
              "      <td>1</td>\n",
              "    </tr>\n",
              "    <tr>\n",
              "      <th>2017-08-28</th>\n",
              "      <td>128141244</td>\n",
              "      <td>30</td>\n",
              "      <td>1971730</td>\n",
              "      <td>1</td>\n",
              "      <td>15</td>\n",
              "      <td>6242</td>\n",
              "      <td>1.00</td>\n",
              "      <td>8</td>\n",
              "      <td>6</td>\n",
              "      <td>2</td>\n",
              "      <td>3</td>\n",
              "      <td>0.0</td>\n",
              "      <td>46.40</td>\n",
              "      <td>2017</td>\n",
              "      <td>8</td>\n",
              "      <td>28</td>\n",
              "      <td>0</td>\n",
              "    </tr>\n",
              "    <tr>\n",
              "      <th>2017-08-25</th>\n",
              "      <td>127423805</td>\n",
              "      <td>8</td>\n",
              "      <td>2026858</td>\n",
              "      <td>2</td>\n",
              "      <td>12</td>\n",
              "      <td>1034</td>\n",
              "      <td>1.00</td>\n",
              "      <td>18</td>\n",
              "      <td>12</td>\n",
              "      <td>3</td>\n",
              "      <td>8</td>\n",
              "      <td>0.0</td>\n",
              "      <td>47.65</td>\n",
              "      <td>2017</td>\n",
              "      <td>8</td>\n",
              "      <td>25</td>\n",
              "      <td>4</td>\n",
              "    </tr>\n",
              "  </tbody>\n",
              "</table>\n",
              "</div>"
            ],
            "text/plain": [
              "                   id  store_nbr  item_nbr  ...  mon  day  dayofweek\n",
              "date                                        ...                     \n",
              "2017-08-19  126305934         46   1038950  ...    8   19          5\n",
              "2017-08-23  127142442         44   1946325  ...    8   23          2\n",
              "2017-08-29  128343097         28   1412379  ...    8   29          1\n",
              "2017-08-28  128141244         30   1971730  ...    8   28          0\n",
              "2017-08-25  127423805          8   2026858  ...    8   25          4\n",
              "\n",
              "[5 rows x 17 columns]"
            ]
          },
          "metadata": {
            "tags": []
          },
          "execution_count": 15
        }
      ]
    },
    {
      "cell_type": "code",
      "metadata": {
        "id": "I3lOD-FphEkG",
        "colab_type": "code",
        "colab": {}
      },
      "source": [
        "dd= np.asarray(strain_t_e_dateIndex.unit_sales)\n",
        "y_hat =stest_t_e_dateIndex.copy()\n",
        "y_hat['naive'] = dd[len(dd)-1]\n",
        "plt.figure(figsize=(12,8))\n",
        "plt.plot(strain_t_e_dateIndex.index, strain_t_e_dateIndex['unit_sales'], label='Train')\n",
        "plt.plot(stest_t_e_dateIndex.index,stest_t_e_dateIndex['unit_sales'], label='Test')\n",
        "plt.plot(y_hat.index,y_hat['naive'], label='Naive Forecast')\n",
        "plt.legend(loc='best')\n",
        "plt.title(\"Naive Forecast\")\n",
        "plt.show()"
      ],
      "execution_count": null,
      "outputs": []
    },
    {
      "cell_type": "markdown",
      "metadata": {
        "id": "9-HsHIQdeSuQ",
        "colab_type": "text"
      },
      "source": [
        "# ARIMA model\n"
      ]
    },
    {
      "cell_type": "code",
      "metadata": {
        "id": "Q-FGdTGUeWCE",
        "colab_type": "code",
        "colab": {
          "base_uri": "https://localhost:8080/",
          "height": 674
        },
        "outputId": "faa1654e-7c10-40eb-d24f-627e55f2049f"
      },
      "source": [
        "df_log = np.log(strain_t_e_dateIndex)"
      ],
      "execution_count": null,
      "outputs": [
        {
          "output_type": "stream",
          "text": [
            "/usr/local/lib/python3.6/dist-packages/ipykernel_launcher.py:1: RuntimeWarning: divide by zero encountered in log\n",
            "  \"\"\"Entry point for launching an IPython kernel.\n"
          ],
          "name": "stderr"
        },
        {
          "output_type": "execute_result",
          "data": {
            "text/html": [
              "<div>\n",
              "<style scoped>\n",
              "    .dataframe tbody tr th:only-of-type {\n",
              "        vertical-align: middle;\n",
              "    }\n",
              "\n",
              "    .dataframe tbody tr th {\n",
              "        vertical-align: top;\n",
              "    }\n",
              "\n",
              "    .dataframe thead th {\n",
              "        text-align: right;\n",
              "    }\n",
              "</style>\n",
              "<table border=\"1\" class=\"dataframe\">\n",
              "  <thead>\n",
              "    <tr style=\"text-align: right;\">\n",
              "      <th></th>\n",
              "      <th>id</th>\n",
              "      <th>store_nbr</th>\n",
              "      <th>item_nbr</th>\n",
              "      <th>unit_sales</th>\n",
              "      <th>onpromotion</th>\n",
              "      <th>family</th>\n",
              "      <th>class</th>\n",
              "      <th>perishable</th>\n",
              "      <th>city</th>\n",
              "      <th>state</th>\n",
              "      <th>type</th>\n",
              "      <th>cluster</th>\n",
              "      <th>transferred</th>\n",
              "      <th>dcoilwtico</th>\n",
              "      <th>yea</th>\n",
              "      <th>mon</th>\n",
              "      <th>day</th>\n",
              "      <th>dayofweek</th>\n",
              "    </tr>\n",
              "    <tr>\n",
              "      <th>date</th>\n",
              "      <th></th>\n",
              "      <th></th>\n",
              "      <th></th>\n",
              "      <th></th>\n",
              "      <th></th>\n",
              "      <th></th>\n",
              "      <th></th>\n",
              "      <th></th>\n",
              "      <th></th>\n",
              "      <th></th>\n",
              "      <th></th>\n",
              "      <th></th>\n",
              "      <th></th>\n",
              "      <th></th>\n",
              "      <th></th>\n",
              "      <th></th>\n",
              "      <th></th>\n",
              "      <th></th>\n",
              "    </tr>\n",
              "  </thead>\n",
              "  <tbody>\n",
              "    <tr>\n",
              "      <th>2014-08-24</th>\n",
              "      <td>17.203095</td>\n",
              "      <td>3.663562</td>\n",
              "      <td>14.030465</td>\n",
              "      <td>2.079442</td>\n",
              "      <td>0.0</td>\n",
              "      <td>1.945910</td>\n",
              "      <td>7.680637</td>\n",
              "      <td>0.223144</td>\n",
              "      <td>1.098612</td>\n",
              "      <td>-inf</td>\n",
              "      <td>0.000000</td>\n",
              "      <td>1.791759</td>\n",
              "      <td>-inf</td>\n",
              "      <td>-inf</td>\n",
              "      <td>7.607878</td>\n",
              "      <td>2.079442</td>\n",
              "      <td>3.178054</td>\n",
              "      <td>1.791759</td>\n",
              "    </tr>\n",
              "    <tr>\n",
              "      <th>2013-08-27</th>\n",
              "      <td>16.145275</td>\n",
              "      <td>1.098612</td>\n",
              "      <td>13.038556</td>\n",
              "      <td>0.693147</td>\n",
              "      <td>-inf</td>\n",
              "      <td>2.397895</td>\n",
              "      <td>6.990257</td>\n",
              "      <td>0.000000</td>\n",
              "      <td>2.890372</td>\n",
              "      <td>2.484907</td>\n",
              "      <td>1.098612</td>\n",
              "      <td>2.079442</td>\n",
              "      <td>-inf</td>\n",
              "      <td>4.692357</td>\n",
              "      <td>7.607381</td>\n",
              "      <td>2.079442</td>\n",
              "      <td>3.295837</td>\n",
              "      <td>0.000000</td>\n",
              "    </tr>\n",
              "    <tr>\n",
              "      <th>2013-08-18</th>\n",
              "      <td>16.108216</td>\n",
              "      <td>3.850148</td>\n",
              "      <td>12.904640</td>\n",
              "      <td>2.708050</td>\n",
              "      <td>-inf</td>\n",
              "      <td>2.397895</td>\n",
              "      <td>6.999422</td>\n",
              "      <td>0.000000</td>\n",
              "      <td>2.890372</td>\n",
              "      <td>2.484907</td>\n",
              "      <td>-inf</td>\n",
              "      <td>2.639057</td>\n",
              "      <td>-inf</td>\n",
              "      <td>-inf</td>\n",
              "      <td>7.607381</td>\n",
              "      <td>2.079442</td>\n",
              "      <td>2.890372</td>\n",
              "      <td>1.791759</td>\n",
              "    </tr>\n",
              "    <tr>\n",
              "      <th>2014-08-27</th>\n",
              "      <td>17.207557</td>\n",
              "      <td>2.079442</td>\n",
              "      <td>13.277528</td>\n",
              "      <td>2.457193</td>\n",
              "      <td>0.0</td>\n",
              "      <td>3.135494</td>\n",
              "      <td>7.741534</td>\n",
              "      <td>0.223144</td>\n",
              "      <td>2.890372</td>\n",
              "      <td>2.484907</td>\n",
              "      <td>1.098612</td>\n",
              "      <td>2.079442</td>\n",
              "      <td>-inf</td>\n",
              "      <td>4.562471</td>\n",
              "      <td>7.607878</td>\n",
              "      <td>2.079442</td>\n",
              "      <td>3.295837</td>\n",
              "      <td>0.693147</td>\n",
              "    </tr>\n",
              "    <tr>\n",
              "      <th>2013-08-30</th>\n",
              "      <td>16.159747</td>\n",
              "      <td>3.178054</td>\n",
              "      <td>12.788933</td>\n",
              "      <td>3.784190</td>\n",
              "      <td>-inf</td>\n",
              "      <td>1.791759</td>\n",
              "      <td>8.018955</td>\n",
              "      <td>0.000000</td>\n",
              "      <td>2.079442</td>\n",
              "      <td>1.791759</td>\n",
              "      <td>1.098612</td>\n",
              "      <td>0.000000</td>\n",
              "      <td>-inf</td>\n",
              "      <td>4.681946</td>\n",
              "      <td>7.607381</td>\n",
              "      <td>2.079442</td>\n",
              "      <td>3.401197</td>\n",
              "      <td>1.386294</td>\n",
              "    </tr>\n",
              "    <tr>\n",
              "      <th>...</th>\n",
              "      <td>...</td>\n",
              "      <td>...</td>\n",
              "      <td>...</td>\n",
              "      <td>...</td>\n",
              "      <td>...</td>\n",
              "      <td>...</td>\n",
              "      <td>...</td>\n",
              "      <td>...</td>\n",
              "      <td>...</td>\n",
              "      <td>...</td>\n",
              "      <td>...</td>\n",
              "      <td>...</td>\n",
              "      <td>...</td>\n",
              "      <td>...</td>\n",
              "      <td>...</td>\n",
              "      <td>...</td>\n",
              "      <td>...</td>\n",
              "      <td>...</td>\n",
              "    </tr>\n",
              "    <tr>\n",
              "      <th>2016-08-24</th>\n",
              "      <td>18.303537</td>\n",
              "      <td>3.258097</td>\n",
              "      <td>13.034467</td>\n",
              "      <td>1.694330</td>\n",
              "      <td>0.0</td>\n",
              "      <td>3.295837</td>\n",
              "      <td>7.789869</td>\n",
              "      <td>0.223144</td>\n",
              "      <td>2.079442</td>\n",
              "      <td>1.791759</td>\n",
              "      <td>1.098612</td>\n",
              "      <td>2.302585</td>\n",
              "      <td>-inf</td>\n",
              "      <td>3.834926</td>\n",
              "      <td>7.608871</td>\n",
              "      <td>2.079442</td>\n",
              "      <td>3.178054</td>\n",
              "      <td>0.693147</td>\n",
              "    </tr>\n",
              "    <tr>\n",
              "      <th>2013-08-16</th>\n",
              "      <td>16.097206</td>\n",
              "      <td>3.465736</td>\n",
              "      <td>13.034467</td>\n",
              "      <td>1.837848</td>\n",
              "      <td>-inf</td>\n",
              "      <td>3.295837</td>\n",
              "      <td>7.789869</td>\n",
              "      <td>0.223144</td>\n",
              "      <td>2.079442</td>\n",
              "      <td>1.791759</td>\n",
              "      <td>0.693147</td>\n",
              "      <td>1.098612</td>\n",
              "      <td>-inf</td>\n",
              "      <td>4.678235</td>\n",
              "      <td>7.607381</td>\n",
              "      <td>2.079442</td>\n",
              "      <td>2.772589</td>\n",
              "      <td>1.386294</td>\n",
              "    </tr>\n",
              "    <tr>\n",
              "      <th>2014-08-22</th>\n",
              "      <td>17.199123</td>\n",
              "      <td>3.496508</td>\n",
              "      <td>13.055982</td>\n",
              "      <td>2.197225</td>\n",
              "      <td>0.0</td>\n",
              "      <td>2.397895</td>\n",
              "      <td>6.981006</td>\n",
              "      <td>0.000000</td>\n",
              "      <td>2.833213</td>\n",
              "      <td>2.197225</td>\n",
              "      <td>0.693147</td>\n",
              "      <td>1.098612</td>\n",
              "      <td>-inf</td>\n",
              "      <td>4.539137</td>\n",
              "      <td>7.607878</td>\n",
              "      <td>2.079442</td>\n",
              "      <td>3.091042</td>\n",
              "      <td>1.386294</td>\n",
              "    </tr>\n",
              "    <tr>\n",
              "      <th>2014-08-17</th>\n",
              "      <td>17.189522</td>\n",
              "      <td>2.397895</td>\n",
              "      <td>12.661343</td>\n",
              "      <td>0.693147</td>\n",
              "      <td>0.0</td>\n",
              "      <td>2.397895</td>\n",
              "      <td>6.971669</td>\n",
              "      <td>0.000000</td>\n",
              "      <td>0.693147</td>\n",
              "      <td>2.484907</td>\n",
              "      <td>0.000000</td>\n",
              "      <td>1.791759</td>\n",
              "      <td>-inf</td>\n",
              "      <td>-inf</td>\n",
              "      <td>7.607878</td>\n",
              "      <td>2.079442</td>\n",
              "      <td>2.833213</td>\n",
              "      <td>1.791759</td>\n",
              "    </tr>\n",
              "    <tr>\n",
              "      <th>2014-08-19</th>\n",
              "      <td>17.193904</td>\n",
              "      <td>3.610918</td>\n",
              "      <td>12.843527</td>\n",
              "      <td>0.693147</td>\n",
              "      <td>0.0</td>\n",
              "      <td>2.397895</td>\n",
              "      <td>6.939254</td>\n",
              "      <td>0.000000</td>\n",
              "      <td>1.098612</td>\n",
              "      <td>-inf</td>\n",
              "      <td>1.098612</td>\n",
              "      <td>0.693147</td>\n",
              "      <td>-inf</td>\n",
              "      <td>4.547011</td>\n",
              "      <td>7.607878</td>\n",
              "      <td>2.079442</td>\n",
              "      <td>2.944439</td>\n",
              "      <td>0.000000</td>\n",
              "    </tr>\n",
              "  </tbody>\n",
              "</table>\n",
              "<p>4459012 rows × 18 columns</p>\n",
              "</div>"
            ],
            "text/plain": [
              "                   id  store_nbr   item_nbr  ...       mon       day  dayofweek\n",
              "date                                         ...                               \n",
              "2014-08-24  17.203095   3.663562  14.030465  ...  2.079442  3.178054   1.791759\n",
              "2013-08-27  16.145275   1.098612  13.038556  ...  2.079442  3.295837   0.000000\n",
              "2013-08-18  16.108216   3.850148  12.904640  ...  2.079442  2.890372   1.791759\n",
              "2014-08-27  17.207557   2.079442  13.277528  ...  2.079442  3.295837   0.693147\n",
              "2013-08-30  16.159747   3.178054  12.788933  ...  2.079442  3.401197   1.386294\n",
              "...               ...        ...        ...  ...       ...       ...        ...\n",
              "2016-08-24  18.303537   3.258097  13.034467  ...  2.079442  3.178054   0.693147\n",
              "2013-08-16  16.097206   3.465736  13.034467  ...  2.079442  2.772589   1.386294\n",
              "2014-08-22  17.199123   3.496508  13.055982  ...  2.079442  3.091042   1.386294\n",
              "2014-08-17  17.189522   2.397895  12.661343  ...  2.079442  2.833213   1.791759\n",
              "2014-08-19  17.193904   3.610918  12.843527  ...  2.079442  2.944439   0.000000\n",
              "\n",
              "[4459012 rows x 18 columns]"
            ]
          },
          "metadata": {
            "tags": []
          },
          "execution_count": 16
        }
      ]
    },
    {
      "cell_type": "code",
      "metadata": {
        "id": "wiYb-MN3eg8i",
        "colab_type": "code",
        "colab": {}
      },
      "source": [
        "decomposition = seasonal_decompose(df_log) \n",
        "model = ARIMA(df_log, order=(2,1,2))\n",
        "results = model.fit(disp=-1)\n",
        "plt.plot(results.fittedvalues, color='red')"
      ],
      "execution_count": null,
      "outputs": []
    }
  ]
}